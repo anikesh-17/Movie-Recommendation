{
  "nbformat": 4,
  "nbformat_minor": 0,
  "metadata": {
    "colab": {
      "provenance": [],
      "authorship_tag": "ABX9TyMH+l3kffCMgB7ofn6tYWvm",
      "include_colab_link": true
    },
    "kernelspec": {
      "name": "python3",
      "display_name": "Python 3"
    },
    "language_info": {
      "name": "python"
    }
  },
  "cells": [
    {
      "cell_type": "markdown",
      "metadata": {
        "id": "view-in-github",
        "colab_type": "text"
      },
      "source": [
        "<a href=\"https://colab.research.google.com/github/anikesh-17/Movie-Recommendation/blob/main/Movie_Recommendations.ipynb\" target=\"_parent\"><img src=\"https://colab.research.google.com/assets/colab-badge.svg\" alt=\"Open In Colab\"/></a>"
      ]
    },
    {
      "cell_type": "code",
      "execution_count": 13,
      "metadata": {
        "colab": {
          "base_uri": "https://localhost:8080/"
        },
        "id": "u6htrKPtH6Yg",
        "outputId": "49fb7604-285f-47dd-a001-a34feeb229a8"
      },
      "outputs": [
        {
          "output_type": "stream",
          "name": "stdout",
          "text": [
            "Index(['Andaz Apna Apna', 'Terminator 2: Judgment Day',\n",
            "       'La double vie de Véronique', 'Paan Singh Tomar', 'The Fighter',\n",
            "       'Black Hawk Down', 'Nefes: Vatan Sagolsun', 'Dil Bechara', 'Malcolm X',\n",
            "       'Sleepers'],\n",
            "      dtype='object', name='Series_Title')\n"
          ]
        }
      ],
      "source": [
        "import pandas as pd\n",
        "import numpy as np\n",
        "from sklearn.metrics.pairwise import cosine_similarity\n",
        "\n",
        "\n",
        "file_path = 'imdb_top_1000.csv'\n",
        "movies_df = pd.read_csv(file_path)\n",
        "\n",
        "\n",
        "num_users = 1000\n",
        "num_movies = movies_df.shape[0]\n",
        "\n",
        "\n",
        "np.random.seed(42)\n",
        "ratings_matrix = np.random.randint(1, 11, size=(num_users, num_movies)).astype(float)\n",
        "\n",
        "\n",
        "mask = np.random.rand(num_users, num_movies) < 0.7\n",
        "ratings_matrix[mask] = np.nan\n",
        "\n",
        "\n",
        "ratings_df = pd.DataFrame(ratings_matrix, columns=movies_df['Series_Title'])\n",
        "\n",
        "\n",
        "ratings_mean = ratings_df.mean(axis=1)\n",
        "normalized_ratings = ratings_df.subtract(ratings_mean, axis='rows')\n",
        "\n",
        "\n",
        "normalized_ratings_filled = normalized_ratings.fillna(0)\n",
        "\n",
        "\n",
        "user_similarity = cosine_similarity(normalized_ratings_filled)\n",
        "user_similarity_df = pd.DataFrame(user_similarity, index=ratings_df.index, columns=ratings_df.index)\n",
        "\n",
        "\n",
        "def predict_ratings(ratings, similarity):\n",
        "    mean_user_rating = ratings.mean(axis=1).to_numpy().reshape(-1, 1)\n",
        "    ratings_diff = np.nan_to_num(ratings.to_numpy() - mean_user_rating)\n",
        "    pred = mean_user_rating + similarity.dot(ratings_diff) / np.array([np.abs(similarity).sum(axis=1)]).T\n",
        "    return pred\n",
        "\n",
        "# Predict ratings\n",
        "predicted_ratings = predict_ratings(normalized_ratings_filled, user_similarity)\n",
        "predicted_ratings_df = pd.DataFrame(predicted_ratings, index=ratings_df.index, columns=ratings_df.columns)\n",
        "\n",
        "\n",
        "def recommend_movies(user_index, num_recommendations=10):\n",
        "    user_ratings = predicted_ratings_df.iloc[user_index].sort_values(ascending=False)\n",
        "    recommended_movies = user_ratings.head(num_recommendations).index\n",
        "    return recommended_movies\n",
        "\n",
        "\n",
        "recommended_movies_user_0 = recommend_movies(0, 10)\n",
        "print(recommended_movies_user_0)\n"
      ]
    },
    {
      "cell_type": "code",
      "source": [
        "# Normalize the ratings (subtract mean rating for each movie)\n",
        "ratings_mean_items = ratings_df.mean(axis=0)\n",
        "normalized_ratings_items = ratings_df.subtract(ratings_mean_items, axis='columns')\n",
        "\n",
        "\n",
        "normalized_ratings_items_filled = normalized_ratings_items.fillna(0)\n",
        "\n",
        "\n",
        "item_similarity = cosine_similarity(normalized_ratings_items_filled.T)\n",
        "item_similarity_df = pd.DataFrame(item_similarity, index=ratings_df.columns, columns=ratings_df.columns)\n",
        "\n",
        "\n",
        "def predict_ratings_item(ratings, similarity):\n",
        "    pred = ratings.dot(similarity) / np.array([np.abs(similarity).sum(axis=1)])\n",
        "    return pred\n",
        "\n",
        "# Predict ratings\n",
        "predicted_ratings_items = predict_ratings_item(normalized_ratings_items_filled, item_similarity)\n",
        "predicted_ratings_items_df = pd.DataFrame(predicted_ratings_items, index=ratings_df.index, columns=ratings_df.columns)\n",
        "\n",
        "# Function to recommend top N movies for a given user based on item-based filtering\n",
        "def recommend_movies_item(user_index, num_recommendations=10):\n",
        "    user_ratings = predicted_ratings_items_df.iloc[user_index].sort_values(ascending=False)\n",
        "    recommended_movies = user_ratings.head(num_recommendations).index\n",
        "    return recommended_movies\n",
        "\n",
        "# Get recommendations for the first user based on item-based filtering\n",
        "recommended_movies_item_user_0 = recommend_movies_item(0, 10)\n",
        "print(recommended_movies_item_user_0)\n"
      ],
      "metadata": {
        "colab": {
          "base_uri": "https://localhost:8080/"
        },
        "id": "RsRoN_98Q6Oj",
        "outputId": "a8aae7d2-e1e5-47c8-94b8-121ea047955a"
      },
      "execution_count": 14,
      "outputs": [
        {
          "output_type": "stream",
          "name": "stdout",
          "text": [
            "Index(['The Shawshank Redemption', 'The Godfather', 'The Dark Knight',\n",
            "       'The Godfather: Part II', '12 Angry Men',\n",
            "       'The Lord of the Rings: The Return of the King', 'Pulp Fiction',\n",
            "       'Schindler's List', 'Inception', 'Fight Club'],\n",
            "      dtype='object', name='Series_Title')\n"
          ]
        }
      ]
    }
  ]
}